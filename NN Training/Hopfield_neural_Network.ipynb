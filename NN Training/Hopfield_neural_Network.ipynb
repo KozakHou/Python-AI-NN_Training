{
 "cells": [
  {
   "cell_type": "markdown",
   "metadata": {
    "id": "Ra4UyHnQTBta"
   },
   "source": [
    "# title: Hopfield-network-and-asociated-memory v2\n",
    "## date: 2022-08-05\n",
    "## author: Mei Ian Sam\n",
    "## affiliation: Department of Physics, National Tsing Hua University\n",
    "\n",
    "### updated version for 2022"
   ]
  },
  {
   "cell_type": "code",
   "execution_count": 1,
   "metadata": {
    "id": "ekeGs2wkTBte"
   },
   "outputs": [],
   "source": [
    "import numpy as np\n",
    "import matplotlib.pyplot as plt"
   ]
  },
  {
   "cell_type": "code",
   "execution_count": 2,
   "metadata": {
    "id": "f77Yc3qbTBth"
   },
   "outputs": [],
   "source": [
    "#digits:: the fundametal memory\n",
    "#training data\n",
    "\n",
    "zero = [[0, 0, 0, 0, 0, 0, 0, 0, 0, 0],[0, 0, 0, 1, 1, 1, 1, 0, 0, 0],[0, 0, 1, 1, 1, 1, 1, 1, 0, 0],[0, 0, 1, 1, 0, 0, 1, 1, 0, 0],[0, 1, 1, 0, 0, 0, 0, 1, 1, 0],[0, 1, 1, 0, 0, 0, 0, 1, 1, 0],[0, 1, 1, 1, 0, 0, 1, 1, 1, 0],[0, 0, 1, 1, 1, 1, 1, 1, 0, 0],[0, 0, 0, 1, 1, 1, 1, 0, 0, 0],[0, 0, 0, 0, 0, 0, 0, 0, 0, 0]]\n",
    "one = [[0, 0, 0, 0, 0, 0, 0, 0, 0, 0],[0, 0, 0, 0, 0, 1, 1, 0, 0, 0],[0, 0, 0, 0, 1, 1, 1, 0, 0, 0],[0, 0, 0, 1, 1, 1, 1, 0, 0, 0],[0, 0, 0, 0, 1, 1, 1, 0, 0, 0],[0, 0, 0, 0, 1, 1, 1, 0, 0, 0],[0, 0, 0, 0, 1, 1, 1, 0, 0, 0],[0, 0, 0, 0, 1, 1, 1, 0, 0, 0],[0, 0, 0, 0, 1, 1, 1, 0, 0, 0],[0, 0, 0, 0, 1, 1, 1, 0, 0, 0]]\n",
    "two = [[0, 0, 0, 0, 0, 0, 0, 0, 0, 0],[0, 0, 0, 1, 1, 1, 1, 0, 0, 0],[0, 0, 1, 1, 1, 1, 1, 1, 0, 0],[0, 1, 1, 0, 0, 0, 1, 1, 1, 0],[0, 1, 1, 0, 0, 0, 0, 1, 1, 0],[0, 0, 0, 0, 0, 0, 0, 1, 1, 0],[0, 0, 0, 0, 0, 0, 1, 1, 0, 0],[0, 0, 0, 0, 1, 1, 1, 0, 0, 0],[0, 1, 1, 1, 1, 1, 1, 1, 1, 1],[0, 1, 1, 1, 1, 1, 1, 1, 1, 1]]\n",
    "three = [[0, 1, 1, 1, 1, 1, 1, 1, 1, 0],[0, 1, 1, 1, 1, 1, 1, 1, 0, 0],[0, 0, 0, 0, 1, 1, 1, 0, 0, 0],[0, 0, 0, 0, 1, 1, 0, 0, 0, 0],[0, 0, 0, 1, 1, 1, 0, 0, 0, 0],[0, 0, 0, 0, 1, 1, 1, 1, 1, 0],[0, 0, 0, 0, 0, 0, 0, 1, 1, 1],[0, 0, 1, 0, 0, 0, 1, 1, 1, 0],[0, 1, 1, 1, 1, 1, 1, 1, 0, 0],[0, 0, 1, 1, 1, 1, 1, 0, 0, 0]]\n",
    "four = [[0, 0, 0, 0, 0, 1, 1, 0, 0, 0],[0, 0, 0, 0, 1, 1, 1, 0, 0, 0],[0, 0, 0, 1, 1, 1, 1, 0, 0, 0],[0, 0, 1, 1, 0, 1, 1, 0, 0, 0],[0, 1, 1, 0, 0, 1, 1, 0, 0, 0],[1, 1, 0, 0, 0, 1, 1, 0, 0, 0],[1, 1, 1, 1, 1, 1, 1, 1, 1, 1],[1, 1, 1, 1, 1, 1, 1, 1, 1, 1],[0, 0, 0, 0, 0, 1, 1, 0, 0, 0],[0, 0, 0, 0, 0, 1, 1, 0, 0, 0]]\n",
    "five = [[1, 1, 1, 1, 1, 1, 1, 1, 1, 0],[1, 1, 1, 1, 1, 1, 1, 1, 1, 0],[1, 1, 0, 0, 0, 0, 0, 0, 0, 0],[1, 1, 0, 0, 0, 0, 0, 0, 0, 0],[1, 1, 1, 1, 1, 1, 1, 1, 0, 0],[0, 1, 1, 1, 1, 1, 1, 1, 1, 0],[0, 0, 0, 0, 0, 0, 0, 1, 1, 1],[0, 1, 1, 0, 0, 0, 0, 1, 1, 0],[0, 1, 1, 1, 1, 1, 1, 1, 0, 0],[0, 0, 1, 1, 1, 1, 1, 0, 0, 0]]\n",
    "six = [[0, 0, 0, 1, 1, 1, 1, 0, 0, 0],[0, 0, 1, 1, 1, 1, 1, 1, 0, 0],[0, 1, 1, 0, 0, 0, 1, 1, 0, 0],[0, 1, 1, 0, 0, 0, 1, 1, 0, 0],[1, 1, 0, 0, 0, 0, 0, 0, 0, 0],[1, 1, 1, 1, 1, 1, 1, 1, 0, 0],[0, 1, 1, 1, 1, 1, 1, 1, 1, 0],[0, 1, 1, 0, 0, 0, 1, 1, 1, 0],[0, 0, 1, 1, 1, 1, 1, 1, 0, 0],[0, 0, 0, 1, 1, 1, 1, 0, 0, 0]]\n",
    "seven = [[0, 0, 0, 0, 0, 0, 0, 0, 0, 0],[0, 1, 1, 1, 1, 1, 1, 1, 1, 0],[0, 1, 1, 1, 1, 1, 1, 1, 1, 0],[0, 0, 0, 0, 0, 0, 1, 1, 0, 0],[0, 0, 0, 0, 0, 0, 1, 1, 0, 0],[0, 0, 0, 0, 0, 0, 1, 1, 0, 0],[0, 0, 0, 0, 0, 0, 1, 1, 0, 0],[0, 0, 0, 0, 0, 0, 1, 1, 0, 0],[0, 0, 0, 0, 0, 0, 1, 1, 0, 0],[0, 0, 0, 0, 0, 0, 1, 1, 0, 0]]\n",
    "eight = [[0, 0, 0, 0, 1, 1, 0, 0, 0, 0],[0, 0, 0, 1, 1, 1, 1, 0, 0, 0],[0, 0, 1, 1, 1, 1, 1, 1, 0, 0],[0, 1, 1, 0, 0, 0, 1, 1, 0, 0],[0, 1, 1, 0, 0, 0, 0, 1, 1, 0],[0, 0, 1, 1, 1, 1, 1, 1, 0, 0],[0, 1, 1, 0, 0, 0, 0, 1, 1, 0],[0, 1, 1, 1, 0, 0, 1, 1, 1, 0],[0, 0, 1, 1, 1, 1, 1, 1, 0, 0],[0, 0, 0, 0, 1, 1, 0, 0, 0, 0]]\n",
    "nine = [[0, 0, 0, 1, 1, 1, 0, 0, 0, 0],[0, 0, 0, 1, 1, 1, 1, 0, 0, 0],[0, 0, 1, 1, 0, 0, 1, 1, 0, 0],[0, 0, 1, 1, 0, 0, 1, 1, 0, 0],[0, 1, 1, 0, 0, 0, 0, 1, 1, 0],[0, 1, 1, 1, 0, 0, 0, 1, 1, 0],[0, 1, 1, 1, 1, 1, 1, 1, 1, 0],[0, 0, 1, 1, 1, 1, 1, 1, 0, 0],[0, 0, 0, 0, 0, 0, 1, 1, 0, 0],[0, 0, 0, 0, 0, 0, 1, 1, 0, 0]]"
   ]
  },
  {
   "cell_type": "code",
   "execution_count": 3,
   "metadata": {
    "colab": {
     "base_uri": "https://localhost:8080/",
     "height": 276
    },
    "id": "K7OE2w5mTBtk",
    "outputId": "d0d1121c-7495-464a-a1c4-284af98a2fec"
   },
   "outputs": [
    {
     "data": {
      "image/png": "[encoded data removed]",
      "text/plain": [
       "<Figure size 720x288 with 10 Axes>"
      ]
     },
     "metadata": {
      "needs_background": "light"
     },
     "output_type": "display_data"
    }
   ],
   "source": [
    "memories = [zero,one,two,three,four,five,six,seven,eight,nine] #you can change the training data\n",
    "fig = plt.figure(figsize = (10,4))\n",
    "plt.suptitle(\"The fundamental memories (training data)\")\n",
    "for i,number in enumerate(memories):\n",
    "    plt.subplot(2,5,i+1)\n",
    "    plt.imshow(number)\n",
    "    plt.title('%d'%(i))\n",
    "    plt.axis('off')"
   ]
  },
  {
   "cell_type": "markdown",
   "metadata": {
    "id": "eFYHYjUZs63M"
   },
   "source": [
    "## *0. Here are the functions*\n",
    "\n"
   ]
  },
  {
   "cell_type": "code",
   "execution_count": 4,
   "metadata": {
    "id": "vjX65_ohTBtn"
   },
   "outputs": [],
   "source": [
    "#construct the W matrix.\n",
    "def Wmatrix(number):\n",
    "    number = np.array(number)\n",
    "    number[number <1] = -1\n",
    "    return np.outer(number,number)\n",
    "\n",
    "def W_loop(mems):\n",
    "    if len(mems) ==1:\n",
    "        return Wmatrix(mems[0])\n",
    "    else:\n",
    "        return Wmatrix(mems[0]) + W_loop(mems[1:])"
   ]
  },
  {
   "cell_type": "code",
   "execution_count": 5,
   "metadata": {
    "id": "FocznGBXTBtq"
   },
   "outputs": [],
   "source": [
    "def generator(number,noise_percentage=0):\n",
    "    number = np.array(number)\n",
    "    number[number<1] = -1\n",
    "    number = np.array([number[i,j]*(-1) if np.random.random()<noise_percentage/100 else number[i,j] for i in range(10) for j in range(10)])\n",
    "    number = number.reshape(10,10)\n",
    "    return number"
   ]
  },
  {
   "cell_type": "code",
   "execution_count": 6,
   "metadata": {
    "id": "8w_ynxFNTBtt"
   },
   "outputs": [],
   "source": [
    "def Hopfield(Wmatrix,steps,signal):\n",
    "    # nlst = np.arange(100)\n",
    "    # np.random.shuffle(nlst)\n",
    "    # signal = np.array(signal).reshape(100,1)\n",
    "    signal = np.array(signal).reshape(1,100)\n",
    "    for step in range(steps):\n",
    "        # for i in nlst:\n",
    "        #     signal[i] = np.sign(np.dot(np.array(w[i]),signal))\n",
    "        signal = np.sign(np.dot(signal, np.array(Wmatrix)))\n",
    "    return signal"
   ]
  },
  {
   "cell_type": "markdown",
   "metadata": {
    "id": "Q9G_neRJsbed"
   },
   "source": [
    "## **1. input full information.**"
   ]
  },
  {
   "cell_type": "code",
   "execution_count": 7,
   "metadata": {
    "colab": {
     "base_uri": "https://localhost:8080/",
     "height": 425
    },
    "id": "F4972SH7TA0V",
    "outputId": "53ba3c98-c95a-4555-d4e9-62b982458a32"
   },
   "outputs": [
    {
     "name": "stdout",
     "output_type": "stream",
     "text": [
      "[[0.         1.         1.         ... 0.33333333 0.33333333 0.33333333]\n",
      " [1.         0.         1.         ... 0.33333333 0.33333333 0.33333333]\n",
      " [1.         1.         0.         ... 0.33333333 0.33333333 0.33333333]\n",
      " ...\n",
      " [0.33333333 0.33333333 0.33333333 ... 0.         1.         1.        ]\n",
      " [0.33333333 0.33333333 0.33333333 ... 1.         0.         1.        ]\n",
      " [0.33333333 0.33333333 0.33333333 ... 1.         1.         0.        ]]\n"
     ]
    },
    {
     "data": {
      "text/plain": [
       "<matplotlib.image.AxesImage at 0x277c32bf700>"
      ]
     },
     "execution_count": 7,
     "metadata": {},
     "output_type": "execute_result"
    },
    {
     "data": {
      "image/png": "[encoded data removed]",
      "text/plain": [
       "<Figure size 432x288 with 1 Axes>"
      ]
     },
     "metadata": {
      "needs_background": "light"
     },
     "output_type": "display_data"
    }
   ],
   "source": [
    "memories_input = [zero,one,two]\n",
    "w = W_loop(memories_input)\n",
    "w[np.diag_indices(100)] = 0\n",
    "w= w/len(memories_input)\n",
    "\n",
    "print(w)\n",
    "\n",
    "\n",
    "sin = generator(four)\n",
    "plt.title('input')\n",
    "plt.imshow(sin)"
   ]
  },
  {
   "cell_type": "code",
   "execution_count": 8,
   "metadata": {
    "colab": {
     "base_uri": "https://localhost:8080/",
     "height": 299
    },
    "id": "CDcAhU1QqKq5",
    "outputId": "8c0a352c-ba41-45a9-c05f-188bf454078c"
   },
   "outputs": [
    {
     "data": {
      "text/plain": [
       "<matplotlib.image.AxesImage at 0x277c33021f0>"
      ]
     },
     "execution_count": 8,
     "metadata": {},
     "output_type": "execute_result"
    },
    {
     "data": {
      "image/png": "[encoded data removed]",
      "text/plain": [
       "<Figure size 432x288 with 1 Axes>"
      ]
     },
     "metadata": {
      "needs_background": "light"
     },
     "output_type": "display_data"
    }
   ],
   "source": [
    "#result.\n",
    "\n",
    "ret = Hopfield(w, 10, sin)\n",
    "plt.title('output')\n",
    "plt.imshow(ret.reshape(10,10))"
   ]
  },
  {
   "cell_type": "markdown",
   "metadata": {
    "id": "V99636R9sip8"
   },
   "source": [
    "## **2. Try to input unknown information: a letter.**"
   ]
  },
  {
   "cell_type": "code",
   "execution_count": 9,
   "metadata": {
    "id": "v-vPxK9o-h_F"
   },
   "outputs": [],
   "source": [
    "def to_pattern(letter):\n",
    "    return np.array([+1 if c=='X' else -1 for c in letter.replace('\\n','')]).reshape(10,10)\n",
    "\n",
    "def display(pattern):\n",
    "    plt.imshow(pattern)"
   ]
  },
  {
   "cell_type": "code",
   "execution_count": 10,
   "metadata": {
    "colab": {
     "base_uri": "https://localhost:8080/",
     "height": 265
    },
    "id": "H8KBnBih8uxp",
    "outputId": "82957843-f39a-44aa-a02c-30b3aeecea5c"
   },
   "outputs": [
    {
     "data": {
      "image/png": "[encoded data removed]",
      "text/plain": [
       "<Figure size 432x288 with 1 Axes>"
      ]
     },
     "metadata": {
      "needs_background": "light"
     },
     "output_type": "display_data"
    }
   ],
   "source": [
    "#you can try other letters.\n",
    "\n",
    "letter = \"\"\"\n",
    "..........\n",
    "....XX....\n",
    "...XXXX...\n",
    "..XX..XX..\n",
    "..XX..XX..\n",
    ".XXXXXXXX.\n",
    ".XX....XX.\n",
    ".XX....XX.\n",
    ".XX....XX.\n",
    "..........\n",
    "\"\"\"\n",
    "\n",
    "display(to_pattern(letter))"
   ]
  },
  {
   "cell_type": "code",
   "execution_count": 11,
   "metadata": {
    "colab": {
     "base_uri": "https://localhost:8080/",
     "height": 299
    },
    "id": "Ifca3ZjM-fqY",
    "outputId": "73fa10e2-cd1e-4a7d-9972-d96fcaf4c29e"
   },
   "outputs": [
    {
     "data": {
      "text/plain": [
       "<matplotlib.image.AxesImage at 0x277c346f4f0>"
      ]
     },
     "execution_count": 11,
     "metadata": {},
     "output_type": "execute_result"
    },
    {
     "data": {
      "image/png": "[encoded data removed]",
      "text/plain": [
       "<Figure size 432x288 with 1 Axes>"
      ]
     },
     "metadata": {
      "needs_background": "light"
     },
     "output_type": "display_data"
    }
   ],
   "source": [
    "memories_input = [zero,one,two,three,four]\n",
    "w = W_loop(memories_input)\n",
    "w[np.diag_indices(100)] = 0\n",
    "w= w/len(memories_input)\n",
    "\n",
    "sin = generator(to_pattern(letter))\n",
    "ret = Hopfield(w, 10, sin)\n",
    "plt.title('output')\n",
    "plt.imshow(ret.reshape(10,10))\n",
    "# plt.colorbar()"
   ]
  },
  {
   "cell_type": "code",
   "execution_count": 12,
   "metadata": {
    "colab": {
     "base_uri": "https://localhost:8080/",
     "height": 283
    },
    "id": "SFJnepmBydIN",
    "outputId": "6a2fc121-c906-4963-98bf-72d9ea885483"
   },
   "outputs": [
    {
     "data": {
      "text/plain": [
       "<matplotlib.image.AxesImage at 0x277c350ae50>"
      ]
     },
     "execution_count": 12,
     "metadata": {},
     "output_type": "execute_result"
    },
    {
     "data": {
      "image/png": "[encoded data removed]",
      "text/plain": [
       "<Figure size 432x288 with 1 Axes>"
      ]
     },
     "metadata": {
      "needs_background": "light"
     },
     "output_type": "display_data"
    }
   ],
   "source": [
    "plt.imshow(nine)"
   ]
  },
  {
   "cell_type": "markdown",
   "metadata": {
    "id": "vVCM4CzQsPYU"
   },
   "source": [
    "## **3. damaged input information.**"
   ]
  },
  {
   "cell_type": "code",
   "execution_count": 15,
   "metadata": {
    "colab": {
     "base_uri": "https://localhost:8080/",
     "height": 299
    },
    "id": "15wx8DPo_Blb",
    "outputId": "db946ac1-665b-4b79-a548-72f93456ecd3"
   },
   "outputs": [
    {
     "data": {
      "text/plain": [
       "<matplotlib.image.AxesImage at 0x277c35fa460>"
      ]
     },
     "execution_count": 15,
     "metadata": {},
     "output_type": "execute_result"
    },
    {
     "data": {
      "image/png": "[encoded data removed]",
      "text/plain": [
       "<Figure size 432x288 with 1 Axes>"
      ]
     },
     "metadata": {
      "needs_background": "light"
     },
     "output_type": "display_data"
    }
   ],
   "source": [
    "memories_input = [zero,one,two]\n",
    "w = W_loop(memories_input)\n",
    "w[np.diag_indices(100)] = 0\n",
    "w= w/len(memories_input)\n",
    "\n",
    "sin = generator(two, noise_percentage= 5)\n",
    "plt.title('input')\n",
    "plt.imshow(sin)"
   ]
  },
  {
   "cell_type": "code",
   "execution_count": 16,
   "metadata": {
    "colab": {
     "base_uri": "https://localhost:8080/",
     "height": 299
    },
    "id": "kxI-jGf3TBt2",
    "outputId": "46422903-66ee-4536-dd52-1722994769f5"
   },
   "outputs": [
    {
     "data": {
      "text/plain": [
       "<matplotlib.image.AxesImage at 0x277c3425730>"
      ]
     },
     "execution_count": 16,
     "metadata": {},
     "output_type": "execute_result"
    },
    {
     "data": {
      "image/png": "[encoded data removed]",
      "text/plain": [
       "<Figure size 432x288 with 1 Axes>"
      ]
     },
     "metadata": {
      "needs_background": "light"
     },
     "output_type": "display_data"
    }
   ],
   "source": [
    "#result\n",
    "ret = Hopfield(w, 100, sin)\n",
    "plt.title('output')\n",
    "plt.imshow(ret.reshape(10,10))"
   ]
  },
  {
   "cell_type": "code",
   "execution_count": null,
   "metadata": {
    "id": "royDDT8yrbbY"
   },
   "outputs": [],
   "source": []
  },
  {
   "cell_type": "code",
   "execution_count": null,
   "metadata": {},
   "outputs": [],
   "source": []
  }
 ],
 "metadata": {
  "colab": {
   "collapsed_sections": [
    "eFYHYjUZs63M"
   ],
   "name": "Hopfield-neural-Network.ipynb",
   "provenance": []
  },
  "kernelspec": {
   "display_name": "Python 3 (ipykernel)",
   "language": "python",
   "name": "python3"
  },
  "language_info": {
   "codemirror_mode": {
    "name": "ipython",
    "version": 3
   },
   "file_extension": ".py",
   "mimetype": "text/x-python",
   "name": "python",
   "nbconvert_exporter": "python",
   "pygments_lexer": "ipython3",
   "version": "3.9.12"
  }
 },
 "nbformat": 4,
 "nbformat_minor": 1
}
