{
 "cells": [
  {
   "cell_type": "code",
   "execution_count": 2,
   "id": "070058d6",
   "metadata": {},
   "outputs": [],
   "source": [
    "from tensorflow.keras.datasets import mnist"
   ]
  },
  {
   "cell_type": "code",
   "execution_count": 3,
   "id": "f4bed3b1",
   "metadata": {},
   "outputs": [],
   "source": [
    "(x_train, y_train),(x_test, y_test) = mnist.load_data()"
   ]
  },
  {
   "cell_type": "code",
   "execution_count": 4,
   "id": "a952f4c7",
   "metadata": {},
   "outputs": [
    {
     "name": "stdout",
     "output_type": "stream",
     "text": [
      "training nums : (60000, 28, 28)\n",
      "training tags : (60000,)\n",
      "training nums : (10000, 28, 28)\n",
      "training tags : (10000,)\n",
      "There're 60000 28x28 pixels training data and 60000 training tags\n"
     ]
    }
   ],
   "source": [
    "print(f\"training nums : {x_train.shape}\")\n",
    "print(f\"training tags : {y_train.shape}\")\n",
    "print(f\"training nums : {x_test.shape}\")\n",
    "print(f\"training tags : {y_test.shape}\")\n",
    "\n",
    "\n",
    "print(\"There're 60000 28x28 pixels training data and 60000 training tags\")"
   ]
  },
  {
   "cell_type": "code",
   "execution_count": 5,
   "id": "06796e6b",
   "metadata": {},
   "outputs": [],
   "source": [
    "from tensorflow.keras.datasets import mnist\n",
    "from tensorflow.keras.models import Sequential #The base for NN\n",
    "\n",
    "from tensorflow.keras.layers import Dense  #Layers of NN\n",
    "from tensorflow.keras.utils import plot_model\n",
    "from tensorflow.keras.utils import to_categorical #Taking tags to encode through One-Hot encoding. e.g. 4-> 0000100000\n",
    "import matplotlib.pyplot as plt\n",
    "import numpy as np\n",
    "\n",
    "#Flattening all pixels to establish the units in a layer. (白話: 28x28像素的照片把他攤成一列，變成一層神經元的所有單元(共784個))\n",
    "x_train = x_train.reshape(x_train.shape[0], 784)  \n",
    "x_test = x_test.reshape(x_test.shape[0], 784)\n",
    "\n",
    "print(\"Before One-Hot encoding \", y_train[2])\n",
    "\n",
    "y_train = to_categorical(y_train)\n",
    "y_test = to_categorical(y_test)\n",
    "\n",
    "print(\"After One-Hot encoding \", y_train[2])"
   ]
  },
  {
   "cell_type": "code",
   "execution_count": 6,
   "id": "93765e4a",
   "metadata": {},
   "outputs": [],
   "source": [
    "#Building NN\n",
    "\n",
    "model = Sequential()\n",
    "\n",
    "#NN Content\n",
    "model.add(Dense(256, activation = 'sigmoid', input_dim = 784))  #784個被攤出的單元作為特徵分給256個神經元以tanh為激勵函數輸出結果\n",
    "model.add(Dense(128, activation = 'relu')) #{x| x<=, 0; x>0, x}\n",
    "model.add(Dense(10, activation = 'softmax')) #輸出10個被分配的答案\n",
    "\n",
    "#NN Finishing\n",
    "model.compile(optimizer = 'adam', loss = 'binary_crossentropy', metrics = ['accuracy'])"
   ]
  },
  {
   "cell_type": "code",
   "execution_count": 6,
   "id": "b526bcc6",
   "metadata": {},
   "outputs": [
    {
     "name": "stdout",
     "output_type": "stream",
     "text": [
      "('You must install pydot (`pip install pydot`) and install graphviz (see instructions at https://graphviz.gitlab.io/download/) ', 'for plot_model/model_to_dot to work.')\n"
     ]
    }
   ],
   "source": [
    "plot_model(model, show_shapes = True, show_layer_names = True)"
   ]
  },
  {
   "cell_type": "code",
   "execution_count": 7,
   "id": "5fbe73bf",
   "metadata": {
    "scrolled": true
   },
   "outputs": [
    {
     "name": "stdout",
     "output_type": "stream",
     "text": [
      "Epoch 1/50\n",
      "59/59 [==============================] - 3s 13ms/step - loss: 0.2127 - accuracy: 0.6608\n",
      "Epoch 2/50\n",
      "59/59 [==============================] - 1s 14ms/step - loss: 0.0787 - accuracy: 0.8920\n",
      "Epoch 3/50\n",
      "59/59 [==============================] - 1s 14ms/step - loss: 0.0558 - accuracy: 0.9196\n",
      "Epoch 4/50\n",
      "59/59 [==============================] - 1s 13ms/step - loss: 0.0465 - accuracy: 0.9309\n",
      "Epoch 5/50\n",
      "59/59 [==============================] - 1s 15ms/step - loss: 0.0413 - accuracy: 0.9390\n",
      "Epoch 6/50\n",
      "59/59 [==============================] - 1s 14ms/step - loss: 0.0380 - accuracy: 0.9438\n",
      "Epoch 7/50\n",
      "59/59 [==============================] - 1s 14ms/step - loss: 0.0350 - accuracy: 0.9487\n",
      "Epoch 8/50\n",
      "59/59 [==============================] - 1s 15ms/step - loss: 0.0327 - accuracy: 0.9515\n",
      "Epoch 9/50\n",
      "59/59 [==============================] - 1s 14ms/step - loss: 0.0306 - accuracy: 0.9555\n",
      "Epoch 10/50\n",
      "59/59 [==============================] - 1s 14ms/step - loss: 0.0293 - accuracy: 0.9576\n",
      "Epoch 11/50\n",
      "59/59 [==============================] - 1s 15ms/step - loss: 0.0280 - accuracy: 0.9596\n",
      "Epoch 12/50\n",
      "59/59 [==============================] - 1s 15ms/step - loss: 0.0274 - accuracy: 0.9599\n",
      "Epoch 13/50\n",
      "59/59 [==============================] - 1s 15ms/step - loss: 0.0264 - accuracy: 0.9616\n",
      "Epoch 14/50\n",
      "59/59 [==============================] - 1s 15ms/step - loss: 0.0254 - accuracy: 0.9626\n",
      "Epoch 15/50\n",
      "59/59 [==============================] - 1s 14ms/step - loss: 0.0243 - accuracy: 0.9648\n",
      "Epoch 16/50\n",
      "59/59 [==============================] - 1s 12ms/step - loss: 0.0237 - accuracy: 0.9661\n",
      "Epoch 17/50\n",
      "59/59 [==============================] - 1s 14ms/step - loss: 0.0234 - accuracy: 0.9656\n",
      "Epoch 18/50\n",
      "59/59 [==============================] - 1s 14ms/step - loss: 0.0223 - accuracy: 0.9675\n",
      "Epoch 19/50\n",
      "59/59 [==============================] - 1s 15ms/step - loss: 0.0222 - accuracy: 0.9675\n",
      "Epoch 20/50\n",
      "59/59 [==============================] - 1s 13ms/step - loss: 0.0222 - accuracy: 0.9676\n",
      "Epoch 21/50\n",
      "59/59 [==============================] - 1s 12ms/step - loss: 0.0215 - accuracy: 0.9676\n",
      "Epoch 22/50\n",
      "59/59 [==============================] - 1s 12ms/step - loss: 0.0205 - accuracy: 0.9699\n",
      "Epoch 23/50\n",
      "59/59 [==============================] - 1s 14ms/step - loss: 0.0203 - accuracy: 0.9706\n",
      "Epoch 24/50\n",
      "59/59 [==============================] - 1s 15ms/step - loss: 0.0192 - accuracy: 0.9711\n",
      "Epoch 25/50\n",
      "59/59 [==============================] - 1s 14ms/step - loss: 0.0188 - accuracy: 0.9719\n",
      "Epoch 26/50\n",
      "59/59 [==============================] - 1s 12ms/step - loss: 0.0191 - accuracy: 0.9719\n",
      "Epoch 27/50\n",
      "59/59 [==============================] - 1s 14ms/step - loss: 0.0188 - accuracy: 0.9729\n",
      "Epoch 28/50\n",
      "59/59 [==============================] - 1s 16ms/step - loss: 0.0184 - accuracy: 0.9720\n",
      "Epoch 29/50\n",
      "59/59 [==============================] - 1s 15ms/step - loss: 0.0175 - accuracy: 0.9738\n",
      "Epoch 30/50\n",
      "59/59 [==============================] - 1s 15ms/step - loss: 0.0174 - accuracy: 0.9743\n",
      "Epoch 31/50\n",
      "59/59 [==============================] - 1s 15ms/step - loss: 0.0170 - accuracy: 0.9744\n",
      "Epoch 32/50\n",
      "59/59 [==============================] - 1s 13ms/step - loss: 0.0162 - accuracy: 0.9764\n",
      "Epoch 33/50\n",
      "59/59 [==============================] - 1s 13ms/step - loss: 0.0164 - accuracy: 0.9757\n",
      "Epoch 34/50\n",
      "59/59 [==============================] - 1s 15ms/step - loss: 0.0156 - accuracy: 0.9764\n",
      "Epoch 35/50\n",
      "59/59 [==============================] - 1s 15ms/step - loss: 0.0158 - accuracy: 0.9764\n",
      "Epoch 36/50\n",
      "59/59 [==============================] - 1s 14ms/step - loss: 0.0159 - accuracy: 0.9766\n",
      "Epoch 37/50\n",
      "59/59 [==============================] - 1s 16ms/step - loss: 0.0164 - accuracy: 0.9758\n",
      "Epoch 38/50\n",
      "59/59 [==============================] - 1s 15ms/step - loss: 0.0164 - accuracy: 0.9753\n",
      "Epoch 39/50\n",
      "59/59 [==============================] - 1s 15ms/step - loss: 0.0154 - accuracy: 0.9769\n",
      "Epoch 40/50\n",
      "59/59 [==============================] - 1s 15ms/step - loss: 0.0152 - accuracy: 0.9775\n",
      "Epoch 41/50\n",
      "59/59 [==============================] - 1s 14ms/step - loss: 0.0145 - accuracy: 0.9788\n",
      "Epoch 42/50\n",
      "59/59 [==============================] - 1s 14ms/step - loss: 0.0145 - accuracy: 0.9775\n",
      "Epoch 43/50\n",
      "59/59 [==============================] - 1s 14ms/step - loss: 0.0140 - accuracy: 0.9793\n",
      "Epoch 44/50\n",
      "59/59 [==============================] - 1s 14ms/step - loss: 0.0135 - accuracy: 0.9797\n",
      "Epoch 45/50\n",
      "59/59 [==============================] - 1s 14ms/step - loss: 0.0140 - accuracy: 0.9788\n",
      "Epoch 46/50\n",
      "59/59 [==============================] - 1s 13ms/step - loss: 0.0140 - accuracy: 0.9792\n",
      "Epoch 47/50\n",
      "59/59 [==============================] - 1s 16ms/step - loss: 0.0137 - accuracy: 0.9798\n",
      "Epoch 48/50\n",
      "59/59 [==============================] - 1s 13ms/step - loss: 0.0133 - accuracy: 0.9800\n",
      "Epoch 49/50\n",
      "59/59 [==============================] - 1s 13ms/step - loss: 0.0138 - accuracy: 0.9799\n",
      "Epoch 50/50\n",
      "59/59 [==============================] - 1s 16ms/step - loss: 0.0130 - accuracy: 0.9797\n"
     ]
    },
    {
     "data": {
      "image/png": "[encoded data removed]",
      "text/plain": [
       "<Figure size 432x288 with 1 Axes>"
      ]
     },
     "metadata": {
      "needs_background": "light"
     },
     "output_type": "display_data"
    }
   ],
   "source": [
    "history = model.fit(x_train, y_train, verbose = 1, epochs = 50, batch_size = 1024)\n",
    "\n",
    "plt.plot(history.history[\"accuracy\"], label = \"accuracy\")\n",
    "plt.ylabel(\"Accuracy\")\n",
    "plt.xlabel(\"epoch\")\n",
    "plt.legend(loc = \"best\")\n",
    "plt.show()"
   ]
  },
  {
   "cell_type": "code",
   "execution_count": 8,
   "id": "98576d99",
   "metadata": {},
   "outputs": [
    {
     "name": "stdout",
     "output_type": "stream",
     "text": [
      "313/313 [==============================] - 3s 8ms/step - loss: 0.0201 - accuracy: 0.9683\n",
      "evaluate loss : 0.02006451040506363 \n",
      "evaluate accuracy : 0.9682999849319458\n"
     ]
    }
   ],
   "source": [
    "score = model.evaluate(x_test, y_test, verbose = 1)\n",
    "print(f\"evaluate loss : {score[0]} \\nevaluate accuracy : {score[1]}\")"
   ]
  },
  {
   "cell_type": "code",
   "execution_count": 9,
   "id": "81afb365",
   "metadata": {},
   "outputs": [
    {
     "data": {
      "image/png": "[encoded data removed]",
      "text/plain": [
       "<Figure size 432x288 with 10 Axes>"
      ]
     },
     "metadata": {
      "needs_background": "light"
     },
     "output_type": "display_data"
    },
    {
     "name": "stdout",
     "output_type": "stream",
     "text": [
      "[7 2 1 0 4 1 4 9 6 9]\n"
     ]
    }
   ],
   "source": [
    "for i in range(10):\n",
    "    plt.subplot(1, 10, i+1)\n",
    "    plt.imshow(x_test[i].reshape(28, 28), \"gray\")\n",
    "plt.show()\n",
    "\n",
    "pred = np.argmax(model.predict(x_test[0:10]), axis = 1)\n",
    "print(pred)"
   ]
  },
  {
   "cell_type": "code",
   "execution_count": null,
   "id": "f5980247",
   "metadata": {},
   "outputs": [],
   "source": []
  }
 ],
 "metadata": {
  "kernelspec": {
   "display_name": "Python 3 (ipykernel)",
   "language": "python",
   "name": "python3"
  },
  "language_info": {
   "codemirror_mode": {
    "name": "ipython",
    "version": 3
   },
   "file_extension": ".py",
   "mimetype": "text/x-python",
   "name": "python",
   "nbconvert_exporter": "python",
   "pygments_lexer": "ipython3",
   "version": "3.9.7"
  }
 },
 "nbformat": 4,
 "nbformat_minor": 5
}
