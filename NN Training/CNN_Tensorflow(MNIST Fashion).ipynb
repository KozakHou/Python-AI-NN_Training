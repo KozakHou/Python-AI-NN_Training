{
 "cells": [
  {
   "cell_type": "code",
   "execution_count": 1,
   "id": "1b32f499",
   "metadata": {},
   "outputs": [],
   "source": [
    "from __future__ import absolute_import, division, print_function, unicode_literals"
   ]
  },
  {
   "cell_type": "code",
   "execution_count": 2,
   "id": "8d947e9e",
   "metadata": {},
   "outputs": [],
   "source": [
    "import  tensorflow as tf\n",
    "from tensorflow import keras\n",
    "\n",
    "import numpy as np\n",
    "import matplotlib.pyplot as plt"
   ]
  },
  {
   "cell_type": "code",
   "execution_count": 3,
   "id": "a93fb421",
   "metadata": {},
   "outputs": [],
   "source": [
    "fashion_mnist = keras.datasets.fashion_mnist\n",
    "\n",
    "(train_images, train_labels), (test_images, test_labels) = fashion_mnist.load_data()"
   ]
  },
  {
   "cell_type": "code",
   "execution_count": 4,
   "id": "1c723a0b",
   "metadata": {},
   "outputs": [
    {
     "data": {
      "image/png": "[encoded data removed]",
      "text/plain": [
       "<Figure size 720x720 with 2 Axes>"
      ]
     },
     "metadata": {
      "needs_background": "light"
     },
     "output_type": "display_data"
    }
   ],
   "source": [
    "fig = plt.figure(figsize = (10, 10))\n",
    "ax = fig.add_subplot(121)\n",
    "ax.set_title(\"images without cmap.\")\n",
    "ax.imshow(train_images[0])\n",
    "\n",
    "ax2 = fig.add_subplot(122)\n",
    "ax2.set_title(\"images with cmap = plt.cm.binary\")\n",
    "ax2.imshow(train_images[0], cmap = plt.cm.binary)\n",
    "\n",
    "plt.show()"
   ]
  },
  {
   "cell_type": "code",
   "execution_count": 5,
   "id": "1e4ed0c0",
   "metadata": {},
   "outputs": [],
   "source": [
    "class_name = ['T-shirt/top', 'Trouser', 'Pullover', 'Dress', 'Coat',\n",
    "             'Sandal', 'Shirt', 'Sneaker', 'Bag', 'Ankle boot']"
   ]
  },
  {
   "cell_type": "code",
   "execution_count": 6,
   "id": "76d16bf1",
   "metadata": {},
   "outputs": [
    {
     "name": "stdout",
     "output_type": "stream",
     "text": [
      "Size of Training Images: (60000, 28, 28)\n",
      "Size of Training Labels: (60000,)\n",
      "Size of Testing Images: (10000, 28, 28)\n",
      "Size of Testing Labels: (10000,)\n",
      "Training Set Labels: [9 0 0 ... 3 0 5]\n",
      "Testing Set Labels: [9 2 1 ... 8 1 5]\n"
     ]
    }
   ],
   "source": [
    "print(\"Size of Training Images: \" + str(train_images.shape))\n",
    "print(\"Size of Training Labels: \" + str(train_labels.shape))\n",
    "\n",
    "print(\"Size of Testing Images: \" + str(test_images.shape))\n",
    "print(\"Size of Testing Labels: \" + str(test_labels.shape))\n",
    "\n",
    "print(\"Training Set Labels: \" + str(train_labels))\n",
    "print(\"Testing Set Labels: \" + str(test_labels))\n",
    "\n",
    "#Normalized\n",
    "train_images = train_images / 255.0\n",
    "test_images = test_images / 255.0"
   ]
  },
  {
   "cell_type": "markdown",
   "id": "4349c6c7",
   "metadata": {},
   "source": [
    "# Further Data Preprocessing\n",
    "In convolution NN, we need to feed the data in the form of a 4D array as follows: \n",
    "\n",
    "* (num_images, x-dims, y_dims, num_channels_per_images)\n",
    "\n",
    "As our images is grayscale, we will reshape input data from (28, 28) to (28, 28, 1)"
   ]
  },
  {
   "cell_type": "code",
   "execution_count": 7,
   "id": "baa06425",
   "metadata": {},
   "outputs": [],
   "source": [
    "w, h = 28, 28\n",
    "train_images = train_images.reshape(train_images.shape[0], w, h, 1)\n",
    "test_images = test_images.reshape(test_images.shape[0], w, h, 1)"
   ]
  },
  {
   "cell_type": "markdown",
   "id": "c69c8234",
   "metadata": {},
   "source": [
    "# Defining Convolution Layers\n",
    "\n",
    "Let us see how to define convolution, max pooling, and dropout layers\n",
    "\n",
    "## Convolution Layer\n",
    "We will be using the following API to defin the Convolution Layer\n",
    "####    tf.keras.layers.Con2D(filters, kernel_size, padding='valid', activation = None, input_shape)\n",
    "\n",
    "# \n",
    "\n",
    "<li> filters : The dimensionality of the output space.\n",
    "\n",
    "<li> kernel_size : An interger or tuple/list of 2 integers. Specifying the height and width of the 2D convolution window. Can be a single integer to specify the same value for all spatial dimensions\n",
    "\n",
    "<li>padding : One of \"valid\" or \"same\" (case : insensitive)\n",
    "\n",
    "<li>activation : Activation function to use. (e.g. tanh, sigmoid, relu,..)</li>\n",
    "\n",
    "## Pooling Layer\n",
    "\n",
    "#### tf.keras.layers.MaxPooling2D(pool_size = 2)\n",
    "## \n",
    "<li> pool_size : Size of the max pooling window</li>\n",
    "\n",
    "\n",
    "## Dropout\n",
    "Dropout is an approach to regularization in neural networks which helps reduce interdependent learning amongst the neurons.\n",
    "\n",
    "Simply put, dropout refers to ignoring units(i.e. neurons) during the training phase, with a certain set of neurons chosen at random. By \"ignoring\" we mean these units are not considered during a particular forward or backward pass\n",
    "\n",
    "It is defined by the following function\n",
    "\n",
    "#### tf.keras.layers.Dropout(0.3)\n",
    "# \n",
    "<li> Parameter: Fraction of the input units to drop (float between 0 and 1)</li>\n",
    "\n",
    "# Define our Model and Training\n",
    "### Build five layer model\n",
    "\n",
    "### <li> Input layers : (28, 28, 1) </li>\n",
    "\n",
    "* Size of the input images.\n",
    "\n",
    "### <li>Convolution layers:</li>\n",
    "\n",
    "* First layer : Kernel size : (2 x 2), resulting in 64 channels\n",
    "* -->Pooling of size (2 x 2) makes the layer (14 x 14 x 64)\n",
    "\n",
    "* Second layer : Kernel size : (2 x 2), resulting in 32 channels\n",
    "* -->Pooling of size (2 x 2) makes the layer (7 x 7 x 32)\n",
    "\n",
    "### <li> Fully connected layers: </li>\n",
    "\n",
    "* Flatten the convolution layers to 1567 nodes (7 x 7 x 32)\n",
    "* Dense layer of size 256\n",
    "\n",
    "### <li> Output layer : </li>\n",
    "* Dense layer with 10 classes using softmax activation"
   ]
  },
  {
   "cell_type": "code",
   "execution_count": 8,
   "id": "453aa9d6",
   "metadata": {},
   "outputs": [
    {
     "name": "stdout",
     "output_type": "stream",
     "text": [
      "Model: \"sequential\"\n",
      "_________________________________________________________________\n",
      "Layer (type)                 Output Shape              Param #   \n",
      "=================================================================\n",
      "conv2d (Conv2D)              (None, 28, 28, 64)        320       \n",
      "_________________________________________________________________\n",
      "max_pooling2d (MaxPooling2D) (None, 14, 14, 64)        0         \n",
      "_________________________________________________________________\n",
      "conv2d_1 (Conv2D)            (None, 14, 14, 32)        8224      \n",
      "_________________________________________________________________\n",
      "max_pooling2d_1 (MaxPooling2 (None, 7, 7, 32)          0         \n",
      "_________________________________________________________________\n",
      "dropout (Dropout)            (None, 7, 7, 32)          0         \n",
      "_________________________________________________________________\n",
      "flatten (Flatten)            (None, 1568)              0         \n",
      "_________________________________________________________________\n",
      "dense (Dense)                (None, 256)               401664    \n",
      "_________________________________________________________________\n",
      "dropout_1 (Dropout)          (None, 256)               0         \n",
      "_________________________________________________________________\n",
      "dense_1 (Dense)              (None, 10)                2570      \n",
      "=================================================================\n",
      "Total params: 412,778\n",
      "Trainable params: 412,778\n",
      "Non-trainable params: 0\n",
      "_________________________________________________________________\n"
     ]
    }
   ],
   "source": [
    "from tensorflow.keras import backend as K\n",
    "import tensorflow as tf\n",
    "K.clear_session()\n",
    "model = tf.keras.Sequential()\n",
    "\n",
    "# Must define the input shape in the first layer of the neural network\n",
    "model.add(tf.keras.layers.Conv2D(filters = 64, kernel_size = 2, padding = 'same', activation = 'relu', input_shape = (28, 28, 1)))\n",
    "model.add(tf.keras.layers.MaxPooling2D(pool_size = 2))\n",
    "\n",
    "#model.add(tf.keras.layers.Dropout(0.3))\n",
    "# Second Convolution layer\n",
    "model.add(tf.keras.layers.Conv2D(filters = 32, kernel_size = 2, padding = 'same', activation = 'relu'))\n",
    "model.add(tf.keras.layers.MaxPooling2D(pool_size = 2))\n",
    "model.add(tf.keras.layers.Dropout(0.3))\n",
    "\n",
    "# Fully connected layer\n",
    "model.add(tf.keras.layers.Flatten())\n",
    "model.add(tf.keras.layers.Dense(256, activation = 'relu'))\n",
    "model.add(tf.keras.layers.Dropout(0.5))\n",
    "model.add(tf.keras.layers.Dense(10, activation = 'softmax'))\n",
    "\n",
    "#Take a look at the model summary\n",
    "model.summary()\n"
   ]
  },
  {
   "cell_type": "markdown",
   "id": "b0e8d613",
   "metadata": {},
   "source": [
    "# Compile the model\n",
    "\n",
    "Before the model is ready for training. it needs a few mode setting. These are added during the model's compile step.\n",
    "\n",
    "* Loss function -- This measures how accurate the model is during training. You want to minimize this function to \"steer\" the model in the right direction.\n",
    "* Optimizer -- This is how the model is updated based on the data it sees and its loss function.\n",
    "* Metrics -- Used to monitor the training and testing steps. The following example uses aaccuracy. the fraction of the images that ate corrctly classified."
   ]
  },
  {
   "cell_type": "code",
   "execution_count": 9,
   "id": "48c904f4",
   "metadata": {},
   "outputs": [],
   "source": [
    "model.compile(optimizer = 'adam',loss = 'sparse_categorical_crossentropy', metrics = ['accuracy'])"
   ]
  },
  {
   "cell_type": "markdown",
   "id": "754be035",
   "metadata": {},
   "source": [
    "# Train the model\n",
    "Training the neural network model requires the following steps:\n",
    "\n",
    "<li>1. Feed the training data to the model. In this example, the training data is in the train_images and train_labels array.\n",
    "    \n",
    "<li>2. The model learns to associate images and labels.\n",
    " \n",
    "<li>3. You ask the model to make predictions about a test set -- in this example, the test_images array. Verify that the predictions match the labels from the **test_labels** array.</li>\n",
    "\n",
    "Call the **model.fit** to train data"
   ]
  },
  {
   "cell_type": "code",
   "execution_count": 10,
   "id": "7e0d95cb",
   "metadata": {},
   "outputs": [
    {
     "name": "stdout",
     "output_type": "stream",
     "text": [
      "Epoch 1/10\n",
      "844/844 [==============================] - 11s 6ms/step - loss: 0.5503 - accuracy: 0.8005 - val_loss: 0.3578 - val_accuracy: 0.8693\n",
      "Epoch 2/10\n",
      "844/844 [==============================] - 5s 6ms/step - loss: 0.3821 - accuracy: 0.8611 - val_loss: 0.3180 - val_accuracy: 0.8833\n",
      "Epoch 3/10\n",
      "844/844 [==============================] - 5s 6ms/step - loss: 0.3415 - accuracy: 0.8755 - val_loss: 0.2875 - val_accuracy: 0.8937\n",
      "Epoch 4/10\n",
      "844/844 [==============================] - 6s 7ms/step - loss: 0.3104 - accuracy: 0.8856 - val_loss: 0.2698 - val_accuracy: 0.9030\n",
      "Epoch 5/10\n",
      "844/844 [==============================] - 5s 6ms/step - loss: 0.2939 - accuracy: 0.8936 - val_loss: 0.2565 - val_accuracy: 0.9072\n",
      "Epoch 6/10\n",
      "844/844 [==============================] - 5s 6ms/step - loss: 0.2774 - accuracy: 0.8984 - val_loss: 0.2521 - val_accuracy: 0.9068\n",
      "Epoch 7/10\n",
      "844/844 [==============================] - 5s 6ms/step - loss: 0.2669 - accuracy: 0.9024 - val_loss: 0.2379 - val_accuracy: 0.9128\n",
      "Epoch 8/10\n",
      "844/844 [==============================] - 5s 6ms/step - loss: 0.2568 - accuracy: 0.9050 - val_loss: 0.2313 - val_accuracy: 0.9152\n",
      "Epoch 9/10\n",
      "844/844 [==============================] - 5s 6ms/step - loss: 0.2461 - accuracy: 0.9098 - val_loss: 0.2275 - val_accuracy: 0.9175\n",
      "Epoch 10/10\n",
      "844/844 [==============================] - 6s 7ms/step - loss: 0.2389 - accuracy: 0.9117 - val_loss: 0.2319 - val_accuracy: 0.9148\n"
     ]
    },
    {
     "data": {
      "image/png": "[encoded data removed]",
      "text/plain": [
       "<Figure size 432x288 with 1 Axes>"
      ]
     },
     "metadata": {
      "needs_background": "light"
     },
     "output_type": "display_data"
    }
   ],
   "source": [
    "history = model.fit(train_images, train_labels, batch_size = 64, epochs = 10, validation_split = 0.1)\n",
    "\n",
    "plt.plot(history.history[\"accuracy\"], label = \"train\")\n",
    "plt.plot(history.history[\"val_accuracy\"], label = 'validation')\n",
    "plt.ylabel(\"Accuracy\")\n",
    "plt.xlabel(\"epoch\")\n",
    "plt.legend(loc = \"best\")\n",
    "plt.show()"
   ]
  },
  {
   "cell_type": "code",
   "execution_count": 11,
   "id": "cc118105",
   "metadata": {},
   "outputs": [
    {
     "name": "stdout",
     "output_type": "stream",
     "text": [
      "313/313 [==============================] - 1s 4ms/step - loss: 0.2494 - accuracy: 0.9092\n",
      "Test accuracy:  0.9092000126838684\n"
     ]
    }
   ],
   "source": [
    "test_loss, test_acc = model.evaluate(test_images, test_labels, verbose = 1)\n",
    "print(\"Test accuracy: \", test_acc)"
   ]
  },
  {
   "cell_type": "markdown",
   "id": "84501c18",
   "metadata": {},
   "source": [
    "# Save Model"
   ]
  },
  {
   "cell_type": "code",
   "execution_count": 12,
   "id": "496e8637",
   "metadata": {},
   "outputs": [
    {
     "name": "stderr",
     "output_type": "stream",
     "text": [
      "子目錄或檔案 saved_model 已經存在。\n"
     ]
    },
    {
     "name": "stdout",
     "output_type": "stream",
     "text": [
      "INFO:tensorflow:Assets written to: saved_model/CNN_model\\assets\n"
     ]
    }
   ],
   "source": [
    "!mkdir saved_model\n",
    "model.save('saved_model/CNN_model')"
   ]
  },
  {
   "cell_type": "markdown",
   "id": "c48f6e6f",
   "metadata": {},
   "source": [
    "# Inspect the file"
   ]
  },
  {
   "cell_type": "code",
   "execution_count": 13,
   "id": "025f27f1",
   "metadata": {
    "scrolled": true
   },
   "outputs": [
    {
     "name": "stdout",
     "output_type": "stream",
     "text": [
      " 磁碟區 C 中的磁碟是 Windows\n",
      " 磁碟區序號:  4AD3-056E\n",
      "\n",
      " C:\\Users\\kozak\\Desktop\\NCHC Intern\\Python_Training\\NN Training\\saved_model 的目錄\n",
      "\n",
      "2022/08/03  下午 01:38    <DIR>          .\n",
      "2022/08/16  下午 04:34    <DIR>          ..\n",
      "2022/08/16  下午 04:34    <DIR>          CNN_model\n",
      "               0 個檔案               0 位元組\n",
      "               3 個目錄  37,061,259,264 位元組可用\n"
     ]
    }
   ],
   "source": [
    "ls saved_model"
   ]
  },
  {
   "cell_type": "markdown",
   "id": "92ef2680",
   "metadata": {},
   "source": [
    "# Load the Model"
   ]
  },
  {
   "cell_type": "code",
   "execution_count": 14,
   "id": "1b594e34",
   "metadata": {
    "scrolled": true
   },
   "outputs": [
    {
     "name": "stdout",
     "output_type": "stream",
     "text": [
      "Model: \"sequential\"\n",
      "_________________________________________________________________\n",
      "Layer (type)                 Output Shape              Param #   \n",
      "=================================================================\n",
      "conv2d (Conv2D)              (None, 28, 28, 64)        320       \n",
      "_________________________________________________________________\n",
      "max_pooling2d (MaxPooling2D) (None, 14, 14, 64)        0         \n",
      "_________________________________________________________________\n",
      "conv2d_1 (Conv2D)            (None, 14, 14, 32)        8224      \n",
      "_________________________________________________________________\n",
      "max_pooling2d_1 (MaxPooling2 (None, 7, 7, 32)          0         \n",
      "_________________________________________________________________\n",
      "dropout (Dropout)            (None, 7, 7, 32)          0         \n",
      "_________________________________________________________________\n",
      "flatten (Flatten)            (None, 1568)              0         \n",
      "_________________________________________________________________\n",
      "dense (Dense)                (None, 256)               401664    \n",
      "_________________________________________________________________\n",
      "dropout_1 (Dropout)          (None, 256)               0         \n",
      "_________________________________________________________________\n",
      "dense_1 (Dense)              (None, 10)                2570      \n",
      "=================================================================\n",
      "Total params: 412,778\n",
      "Trainable params: 412,778\n",
      "Non-trainable params: 0\n",
      "_________________________________________________________________\n"
     ]
    }
   ],
   "source": [
    "New_CNN_Model = tf.keras.models.load_model('saved_model/CNN_model')\n",
    "\n",
    "New_CNN_Model.summary()"
   ]
  },
  {
   "cell_type": "markdown",
   "id": "b2b51793",
   "metadata": {},
   "source": [
    "# Evaluate the restored model"
   ]
  },
  {
   "cell_type": "code",
   "execution_count": 15,
   "id": "b98560bd",
   "metadata": {},
   "outputs": [
    {
     "name": "stdout",
     "output_type": "stream",
     "text": [
      "313/313 [==============================] - 1s 4ms/step - loss: 0.2494 - accuracy: 0.9092\n",
      "Restored model, Accuracy : 90.92%\n",
      "(10000, 10)\n"
     ]
    }
   ],
   "source": [
    "loss, accuracy = New_CNN_Model.evaluate(test_images, test_labels, verbose = True)\n",
    "print('Restored model, Accuracy : {:5.2f}%'.format(100 * accuracy))\n",
    "\n",
    "print(New_CNN_Model.predict(test_images).shape)"
   ]
  },
  {
   "cell_type": "markdown",
   "id": "c5bea259",
   "metadata": {},
   "source": [
    "# Save model in HDF5 format"
   ]
  },
  {
   "cell_type": "code",
   "execution_count": 16,
   "id": "19d4d629",
   "metadata": {},
   "outputs": [],
   "source": [
    "model.save('CNN_model.h5')"
   ]
  },
  {
   "cell_type": "markdown",
   "id": "f087b024",
   "metadata": {},
   "source": [
    "# Recreate the model from HDF5 file"
   ]
  },
  {
   "cell_type": "code",
   "execution_count": 17,
   "id": "3557e97e",
   "metadata": {},
   "outputs": [
    {
     "name": "stdout",
     "output_type": "stream",
     "text": [
      "Model: \"sequential\"\n",
      "_________________________________________________________________\n",
      "Layer (type)                 Output Shape              Param #   \n",
      "=================================================================\n",
      "conv2d (Conv2D)              (None, 28, 28, 64)        320       \n",
      "_________________________________________________________________\n",
      "max_pooling2d (MaxPooling2D) (None, 14, 14, 64)        0         \n",
      "_________________________________________________________________\n",
      "conv2d_1 (Conv2D)            (None, 14, 14, 32)        8224      \n",
      "_________________________________________________________________\n",
      "max_pooling2d_1 (MaxPooling2 (None, 7, 7, 32)          0         \n",
      "_________________________________________________________________\n",
      "dropout (Dropout)            (None, 7, 7, 32)          0         \n",
      "_________________________________________________________________\n",
      "flatten (Flatten)            (None, 1568)              0         \n",
      "_________________________________________________________________\n",
      "dense (Dense)                (None, 256)               401664    \n",
      "_________________________________________________________________\n",
      "dropout_1 (Dropout)          (None, 256)               0         \n",
      "_________________________________________________________________\n",
      "dense_1 (Dense)              (None, 10)                2570      \n",
      "=================================================================\n",
      "Total params: 412,778\n",
      "Trainable params: 412,778\n",
      "Non-trainable params: 0\n",
      "_________________________________________________________________\n"
     ]
    }
   ],
   "source": [
    "HDF_CNN_Model = tf.keras.models.load_model('CNN_model.h5')\n",
    "HDF_CNN_Model.summary()"
   ]
  },
  {
   "cell_type": "markdown",
   "id": "226a3e7b",
   "metadata": {},
   "source": [
    "# Check its Accuracy"
   ]
  },
  {
   "cell_type": "code",
   "execution_count": 18,
   "id": "22812fa6",
   "metadata": {},
   "outputs": [
    {
     "name": "stdout",
     "output_type": "stream",
     "text": [
      "313/313 [==============================] - 1s 3ms/step - loss: 0.2494 - accuracy: 0.9092\n",
      "Restored model, Accuracy: 90.92%\n"
     ]
    }
   ],
   "source": [
    "loss, accuracy = HDF_CNN_Model.evaluate(test_images, test_labels, verbose = True)\n",
    "print('Restored model, Accuracy: {:5.2f}%'.format(100 * accuracy))"
   ]
  },
  {
   "cell_type": "markdown",
   "id": "96aa2065",
   "metadata": {},
   "source": [
    "# Making Predictions"
   ]
  },
  {
   "cell_type": "code",
   "execution_count": 19,
   "id": "5368d42c",
   "metadata": {},
   "outputs": [],
   "source": [
    "# Making predictions from the test_images\n",
    "\n",
    "predictions = model.predict(test_images)"
   ]
  },
  {
   "cell_type": "code",
   "execution_count": 20,
   "id": "e15270cb",
   "metadata": {},
   "outputs": [],
   "source": [
    "# Reshape the data from (28, 28, 1) to (28, 28)\n",
    "w, h = 28, 28\n",
    "train_images = train_images.reshape(train_images.shape[0], w, h)\n",
    "test_images = test_images.reshape(test_images.shape[0], w, h)\n",
    "\n",
    "#Define a function to help us plot the images\n",
    "def plot_images(i, predictions_array, true_label, img):\n",
    "    predictions_array, true_label, img = predictions_array, true_label[i], img[i]\n",
    "    plt.grid(False)\n",
    "    plt.xticks([])\n",
    "    plt.yticks([])\n",
    "    \n",
    "    plt.imshow(img, cmap = plt.cm.binary)\n",
    "    \n",
    "    predicted_label = np.argmax(predictions_array)\n",
    "    if predicted_label == true_label:\n",
    "        color = \"blue\"\n",
    "    else:\n",
    "        color = \"red\"\n",
    "        \n",
    "    plt.xlabel(\"{} {:2.0f}% ({})\".format(class_name[predicted_label], 100*np.max(predictions_array), class_name[true_label]), color = color)\n",
    "\n",
    "def plot_value_array(i, predictions_array, true_label):\n",
    "    predictions_array, true_label = predictions_array,  true_label[i]\n",
    "    plt.grid(False)\n",
    "    plt.xticks(range(10))\n",
    "    plt.yticks([])\n",
    "    thisplot = plt.bar(range(10), predictions_array, color = \"#777777\")\n",
    "    plt.ylim([0, 1])\n",
    "    predicted_label = np.argmax(predictions_array)\n",
    "    \n",
    "    thisplot[predicted_label].set_color('red')\n",
    "    thisplot[true_label].set_color('blue')"
   ]
  },
  {
   "cell_type": "code",
   "execution_count": 21,
   "id": "2af9d6e7",
   "metadata": {},
   "outputs": [
    {
     "data": {
      "image/png": "[encoded data removed]",
      "text/plain": [
       "<Figure size 864x720 with 30 Axes>"
      ]
     },
     "metadata": {
      "needs_background": "light"
     },
     "output_type": "display_data"
    }
   ],
   "source": [
    "# plot the first x test images, their predicted labels, and the true labels.\n",
    "# Color correct predictions in blue and incorrect predictions in red.\n",
    "\n",
    "num_rows = 5\n",
    "num_cols = 3\n",
    "num_images = num_rows * num_cols\n",
    "plt.figure(figsize = (2*2*num_cols, 2*num_rows))\n",
    "\n",
    "for i in range(num_images):\n",
    "    plt.subplot(num_rows, 2*num_cols, 2*i+1)\n",
    "    plot_images(i, predictions[i], test_labels, test_images)\n",
    "    plt.subplot(num_rows, 2*num_cols, 2*i+2)\n",
    "    plot_value_array(i, predictions[i], test_labels)\n",
    "plt.tight_layout()\n",
    "plt.show()"
   ]
  },
  {
   "cell_type": "code",
   "execution_count": null,
   "id": "adff6bf0",
   "metadata": {},
   "outputs": [],
   "source": []
  }
 ],
 "metadata": {
  "kernelspec": {
   "display_name": "Python 3 (ipykernel)",
   "language": "python",
   "name": "python3"
  },
  "language_info": {
   "codemirror_mode": {
    "name": "ipython",
    "version": 3
   },
   "file_extension": ".py",
   "mimetype": "text/x-python",
   "name": "python",
   "nbconvert_exporter": "python",
   "pygments_lexer": "ipython3",
   "version": "3.9.12"
  }
 },
 "nbformat": 4,
 "nbformat_minor": 5
}
